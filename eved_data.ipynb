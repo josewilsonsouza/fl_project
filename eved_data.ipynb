{
 "cells": [
  {
   "cell_type": "code",
   "execution_count": null,
   "id": "88e29c05",
   "metadata": {},
   "outputs": [],
   "source": [
    "# instale, se necessário, as bibliotecas\n",
    "# !pip install datasets"
   ]
  },
  {
   "cell_type": "code",
   "execution_count": null,
   "id": "fdd461ee",
   "metadata": {},
   "outputs": [],
   "source": [
    "import pandas as pd\n",
    "from datasets import load_dataset"
   ]
  },
  {
   "cell_type": "code",
   "execution_count": 2,
   "id": "e3741aac",
   "metadata": {},
   "outputs": [],
   "source": [
    "global dir_hf\n",
    "dir_hf = 'jwsouza13/ved'"
   ]
  },
  {
   "cell_type": "code",
   "execution_count": null,
   "id": "304c1377",
   "metadata": {},
   "outputs": [],
   "source": [
    "def load_data_folder(folder_name):\n",
    "    \"\"\"\n",
    "    Carrega TODOS os arquivos .csv de uma pasta específica de um dataset \n",
    "    do Hugging Face e os combina em um único DataFrame.\n",
    "    \n",
    "    folder_name: 'ved_1', 'ved_2' ou 'eVED'\n",
    "    \"\"\"\n",
    "    path_glob = f\"{folder_name}/*.csv\"\n",
    "    print(f\"Carregando arquivos de: {dir_hf} na pasta {path_glob}\")\n",
    "\n",
    "    dataset = load_dataset(\n",
    "        dir_hf, \n",
    "        data_files=path_glob\n",
    "        # (use_auth_token=True se o dataset for privado)\n",
    "    )\n",
    "    # Converte o split 'train' (que contém todos os CSVs combinados) para pandas\n",
    "    df_completo = dataset['train'].to_pandas()\n",
    "    \n",
    "    return df_completo"
   ]
  },
  {
   "cell_type": "code",
   "execution_count": null,
   "id": "39fc8d8b",
   "metadata": {},
   "outputs": [],
   "source": [
    "info_ice_hev = pd.read_excel('https://huggingface.co/datasets/jwsouza13/ved/resolve/main/VED_Static_Data_ICE%26HEV.xlsx')\n",
    "info_phev_ev = pd.read_excel('https://huggingface.co/datasets/jwsouza13/ved/resolve/main/VED_Static_Data_PHEV%26EV.xlsx')\n",
    "info_data = pd.concat([info_ice_hev, info_phev_ev], ignore_index=True)\n",
    "info_data.head()"
   ]
  },
  {
   "cell_type": "code",
   "execution_count": 23,
   "id": "db785e3d",
   "metadata": {},
   "outputs": [
    {
     "name": "stdout",
     "output_type": "stream",
     "text": [
      "Carregando arquivos de: jwsouza13/ved na pasta eVED/*.csv\n"
     ]
    },
    {
     "name": "stderr",
     "output_type": "stream",
     "text": [
      "Downloading data: 100%|██████████| 54/54 [01:16<00:00,  1.41s/files]\n",
      "Generating train split: 22436808 examples [01:55, 194968.32 examples/s]\n"
     ]
    }
   ],
   "source": [
    "data_eved = load_data_folder(\"eVED\")"
   ]
  },
  {
   "cell_type": "code",
   "execution_count": null,
   "id": "cdcb2319",
   "metadata": {},
   "outputs": [],
   "source": [
    "df = data_eved.merge(info_data, on='VehId', how='left')"
   ]
  },
  {
   "cell_type": "code",
   "execution_count": 61,
   "id": "0ebdb0d9",
   "metadata": {},
   "outputs": [],
   "source": [
    "df_ice = df[df['Vehicle Type'] == 'ICE']\n",
    "df_hev = df[df['Vehicle Type'] == 'HEV']\n",
    "df_phev = df[df['EngineType'] == 'PHEV']\n",
    "df_ev = df[df['EngineType'] == 'EV']"
   ]
  }
 ],
 "metadata": {
  "kernelspec": {
   "display_name": "Python 3",
   "language": "python",
   "name": "python3"
  },
  "language_info": {
   "codemirror_mode": {
    "name": "ipython",
    "version": 3
   },
   "file_extension": ".py",
   "mimetype": "text/x-python",
   "name": "python",
   "nbconvert_exporter": "python",
   "pygments_lexer": "ipython3",
   "version": "3.11.9"
  }
 },
 "nbformat": 4,
 "nbformat_minor": 5
}
